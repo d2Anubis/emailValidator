{
  "cells": [
    {
      "cell_type": "code",
      "source": [
        "!pip install dnspython"
      ],
      "metadata": {
        "colab": {
          "base_uri": "https://localhost:8080/"
        },
        "id": "pwKEz66kyJJ9",
        "outputId": "6708b25f-791a-4222-946d-f45998b39bdd"
      },
      "id": "pwKEz66kyJJ9",
      "execution_count": 4,
      "outputs": [
        {
          "output_type": "stream",
          "name": "stdout",
          "text": [
            "Looking in indexes: https://pypi.org/simple, https://us-python.pkg.dev/colab-wheels/public/simple/\n",
            "Requirement already satisfied: dnspython in /usr/local/lib/python3.10/dist-packages (2.3.0)\n"
          ]
        }
      ]
    },
    {
      "cell_type": "code",
      "source": [
        "import re\n",
        "import smtplib\n",
        "import dns.resolver\n",
        "\n",
        "def validate_email(email):    \n",
        "    if not re.match(r\"[^@]+@[^@]+\\.[^@]+\", email):\n",
        "        return False\n",
        "    domain = email.split('@')[1]\n",
        "    try:        \n",
        "        records = dns.resolver.resolve(domain, 'MX')\n",
        "        mx_record = records[0].exchange.to_text()\n",
        "        with smtplib.SMTP() as server:\n",
        "            server.set_debuglevel(0)\n",
        "            server.connect(mx_record)\n",
        "            server.helo(server.local_hostname)\n",
        "            server.mail('test@example.com')\n",
        "            code, _ = server.rcpt(email)\n",
        "            return code == 250\n",
        "    except (dns.resolver.NXDOMAIN, smtplib.SMTPConnectError):\n",
        "        return False"
      ],
      "metadata": {
        "id": "UP42H8Plx_3H"
      },
      "id": "UP42H8Plx_3H",
      "execution_count": 5,
      "outputs": []
    },
    {
      "cell_type": "code",
      "source": [
        "email1 = \"alesiaconover@cox.net\"\n",
        "email2 = \"alesiaconover@cox.net\"\n",
        "email3 = \"magormley1@cox.net\"\n",
        "email4 = \"lwoodard@cox.net\"\n",
        "email5 = \"stondreau@cox.net\"\n",
        "email6 = \"lhutfles@cox.net\"\n",
        "email7 = \"bolivarfamily@cox.net\"\n",
        "email8 = \"ageecrew@cox.net\"\n",
        "email9 = \"0cimei@cox.net\"\n",
        "email10 = \"123aloop1@cox.net\"\n",
        "email11 = \"1350tw@cox.net\"\n",
        "email12 = \"1slgoodman62@cox.net\"\n",
        "email13 = \"187thepigs@cox.net\"\n",
        "email14 = \"2katz2meny@cox.net\"\n",
        "email15 = \"jkaine1994@cox.net\"\n",
        "email16 = \"3boyzmom@cox.net\""
      ],
      "metadata": {
        "id": "reKq1WAeSn_2"
      },
      "id": "reKq1WAeSn_2",
      "execution_count": 6,
      "outputs": []
    },
    {
      "cell_type": "code",
      "source": [
        "email = email1\n",
        "is_valid = validate_email(email)\n",
        "print(f\"{email}: {'Valid' if is_valid else 'Invalid'}\")"
      ],
      "metadata": {
        "colab": {
          "base_uri": "https://localhost:8080/"
        },
        "id": "1fmAIMyeyAtm",
        "outputId": "9beda581-b705-47d9-a378-62f59410da9f"
      },
      "id": "1fmAIMyeyAtm",
      "execution_count": 7,
      "outputs": [
        {
          "output_type": "stream",
          "name": "stdout",
          "text": [
            "alesiaconover@cox.net: Valid\n"
          ]
        }
      ]
    },
    {
      "cell_type": "code",
      "source": [],
      "metadata": {
        "id": "7us7TxIjzQaD"
      },
      "id": "7us7TxIjzQaD",
      "execution_count": 7,
      "outputs": []
    }
  ],
  "metadata": {
    "kernelspec": {
      "display_name": "Python 3 (ipykernel)",
      "language": "python",
      "name": "python3"
    },
    "language_info": {
      "codemirror_mode": {
        "name": "ipython",
        "version": 3
      },
      "file_extension": ".py",
      "mimetype": "text/x-python",
      "name": "python",
      "nbconvert_exporter": "python",
      "pygments_lexer": "ipython3",
      "version": "3.9.12"
    },
    "colab": {
      "provenance": []
    }
  },
  "nbformat": 4,
  "nbformat_minor": 5
}